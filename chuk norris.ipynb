{
 "metadata": {
  "language_info": {
   "codemirror_mode": {
    "name": "ipython",
    "version": 3
   },
   "file_extension": ".py",
   "mimetype": "text/x-python",
   "name": "python",
   "nbconvert_exporter": "python",
   "pygments_lexer": "ipython3",
   "version": "3.9.5"
  },
  "orig_nbformat": 2,
  "kernelspec": {
   "name": "python395jvsc74a57bd063fd5069d213b44bf678585dea6b12cceca9941eaf7f819626cde1f2670de90d",
   "display_name": "Python 3.9.5 64-bit"
  },
  "metadata": {
   "interpreter": {
    "hash": "63fd5069d213b44bf678585dea6b12cceca9941eaf7f819626cde1f2670de90d"
   }
  }
 },
 "nbformat": 4,
 "nbformat_minor": 2,
 "cells": [
  {
   "cell_type": "code",
   "execution_count": 40,
   "metadata": {},
   "outputs": [],
   "source": [
    "from urllib.request import urlopen"
   ]
  },
  {
   "cell_type": "code",
   "execution_count": null,
   "metadata": {},
   "outputs": [],
   "source": [
    "url = \"http://api.icndb.com/jokes/97\""
   ]
  },
  {
   "cell_type": "code",
   "execution_count": null,
   "metadata": {},
   "outputs": [],
   "source": [
    "joke_data = urlopen(url)"
   ]
  },
  {
   "cell_type": "code",
   "execution_count": null,
   "metadata": {},
   "outputs": [],
   "source": [
    "print(joke_data)"
   ]
  },
  {
   "cell_type": "code",
   "execution_count": null,
   "metadata": {},
   "outputs": [],
   "source": [
    "joke_content = joke_data.read()"
   ]
  },
  {
   "cell_type": "code",
   "execution_count": null,
   "metadata": {},
   "outputs": [],
   "source": [
    "print(joke_content)"
   ]
  },
  {
   "cell_type": "code",
   "execution_count": null,
   "metadata": {},
   "outputs": [],
   "source": [
    "import json"
   ]
  },
  {
   "cell_type": "code",
   "execution_count": null,
   "metadata": {},
   "outputs": [],
   "source": [
    "json_joke_data = json.loads(joke_content)"
   ]
  },
  {
   "cell_type": "code",
   "execution_count": null,
   "metadata": {},
   "outputs": [],
   "source": [
    "print(json_joke_data)"
   ]
  },
  {
   "cell_type": "code",
   "execution_count": null,
   "metadata": {},
   "outputs": [],
   "source": [
    "int_data = json_joke_data['value']\n",
    "print(int_data)"
   ]
  },
  {
   "cell_type": "code",
   "execution_count": null,
   "metadata": {},
   "outputs": [],
   "source": [
    "the_joke = int_data['joke']\n",
    "print(the_joke)"
   ]
  },
  {
   "cell_type": "code",
   "execution_count": null,
   "metadata": {},
   "outputs": [],
   "source": [
    "with open('chuk_norris.csv','w') as f:\n",
    "    f.write(the_joke)"
   ]
  },
  {
   "cell_type": "code",
   "execution_count": 63,
   "metadata": {},
   "outputs": [],
   "source": [
    "url_list = [i for i in range(97,110)]\n",
    "joke_list = {}\n",
    "for url in url_list:\n",
    "    joke_data = urlopen(\"http://api.icndb.com/jokes/\" + str(url))\n",
    "    joke_content = joke_data.read()\n",
    "    json_joke_data = json.loads(joke_content)\n",
    "    int_data = json_joke_data['value']\n",
    "    the_joke = int_data['joke']\n",
    "    joke_list[url] = the_joke"
   ]
  },
  {
   "cell_type": "code",
   "execution_count": 68,
   "metadata": {},
   "outputs": [
    {
     "output_type": "stream",
     "name": "stdout",
     "text": [
      "{97: \"Chuck Norris doesn't throw up if he drinks too much. Chuck Norris throws down!\", 98: 'In the beginning there was nothing...then Chuck Norris Roundhouse kicked that nothing in the face and said &quot;Get a job&quot;. That is the story of the universe.', 99: 'Chuck Norris has 12 moons. One of those moons is the Earth.', 100: 'Chuck Norris grinds his coffee with his teeth and boils the water with his own rage.', 101: 'Archaeologists unearthed an old english dictionary dating back to the year 1236. It defined &quot;victim&quot; as &quot;one who has encountered Chuck Norris&quot;', 102: 'Chuck Norris ordered a Big Mac at Burger King, and got one.', 103: 'Chuck Norris and Mr. T walked into a bar. The bar was instantly destroyed, as that level of awesome cannot be contained in one building.', 104: \"If you Google search &quot;Chuck Norris getting his ass kicked&quot; you will generate zero results. It just doesn't happen.\", 105: 'Chuck Norris can drink an entire gallon of milk in thirty-seven seconds.', 106: \"Little known medical fact: Chuck Norris invented the Caesarean section when he roundhouse-kicked his way out of his mother's womb.\", 107: \"Chuck Norris doesn't bowl strikes, he just knocks down one pin and the other nine faint.\", 108: 'The show Survivor had the original premise of putting people on an island with Chuck Norris. There were no survivors, and nobody is brave enough to go to the island to retrieve the footage.', 109: 'It takes Chuck Norris 20 minutes to watch 60 Minutes.'}\n"
     ]
    }
   ],
   "source": [
    "print(joke_list)"
   ]
  },
  {
   "cell_type": "code",
   "execution_count": 66,
   "metadata": {},
   "outputs": [],
   "source": [
    "import csv\n",
    "with open('chuk_norris.csv','w',newline='\\n') as f:\n",
    "    for k,v in joke_list.items():\n",
    "        joke_write = csv.writer(f)\n",
    "        joke_write.writerow([k,v])"
   ]
  }
 ]
}